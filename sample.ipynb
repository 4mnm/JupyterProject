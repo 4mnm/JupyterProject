{
 "cells": [
  {
   "metadata": {
    "ExecuteTime": {
     "end_time": "2025-09-09T11:53:12.195248Z",
     "start_time": "2025-09-09T11:53:11.612318Z"
    }
   },
   "cell_type": "code",
   "source": [
    "import sys\n",
    "\n",
    "class Circle:\n",
    "    units = 'cm'\n",
    "\n",
    "    def _init_(self, radius, position=(0, 0)):\n",
    "         self.radius = radius\n",
    "         self.position = position\n",
    "\n",
    "\n",
    "    def _str_(self):\n",
    "        return f\"I am a circle of size {self.radius}{self.units} located at {self.position}.\"\n",
    "\n",
    "\n",
    "    @staticmethod\n",
    "    def main():\n",
    "        # instantiate\n",
    "        circle = Circle()\n",
    "        print(circle)\n",
    "        circle.position = (30, -50)\n",
    "        print(circle)\n",
    "        circle.radius = 17\n",
    "        print(circle)\n",
    "\n",
    "        return 0\n",
    "\n",
    "    if _name_ == \"_main_\":\n",
    "        sys.exit(main())\n",
    "\n"
   ],
   "id": "fbc121e30a2defb3",
   "outputs": [
    {
     "ename": "NameError",
     "evalue": "name '_name_' is not defined",
     "output_type": "error",
     "traceback": [
      "\u001B[31m---------------------------------------------------------------------------\u001B[39m",
      "\u001B[31mNameError\u001B[39m                                 Traceback (most recent call last)",
      "\u001B[36mCell\u001B[39m\u001B[36m \u001B[39m\u001B[32mIn[2]\u001B[39m\u001B[32m, line 3\u001B[39m\n\u001B[32m      1\u001B[39m \u001B[38;5;28;01mimport\u001B[39;00m\u001B[38;5;250m \u001B[39m\u001B[34;01msys\u001B[39;00m\n\u001B[32m----> \u001B[39m\u001B[32m3\u001B[39m \u001B[38;5;28;43;01mclass\u001B[39;49;00m\u001B[38;5;250;43m \u001B[39;49m\u001B[34;43;01mCircle\u001B[39;49;00m\u001B[43m:\u001B[49m\n\u001B[32m      4\u001B[39m \u001B[43m    \u001B[49m\u001B[43munits\u001B[49m\u001B[43m \u001B[49m\u001B[43m=\u001B[49m\u001B[43m \u001B[49m\u001B[33;43m'\u001B[39;49m\u001B[33;43mcm\u001B[39;49m\u001B[33;43m'\u001B[39;49m\n\u001B[32m      6\u001B[39m \u001B[43m    \u001B[49m\u001B[38;5;28;43;01mdef\u001B[39;49;00m\u001B[38;5;250;43m \u001B[39;49m\u001B[34;43m_init_\u001B[39;49m\u001B[43m(\u001B[49m\u001B[38;5;28;43mself\u001B[39;49m\u001B[43m,\u001B[49m\u001B[43m \u001B[49m\u001B[43mradius\u001B[49m\u001B[43m,\u001B[49m\u001B[43m \u001B[49m\u001B[43mposition\u001B[49m\u001B[43m=\u001B[49m\u001B[43m(\u001B[49m\u001B[32;43m0\u001B[39;49m\u001B[43m,\u001B[49m\u001B[43m \u001B[49m\u001B[32;43m0\u001B[39;49m\u001B[43m)\u001B[49m\u001B[43m)\u001B[49m\u001B[43m:\u001B[49m\n",
      "\u001B[36mCell\u001B[39m\u001B[36m \u001B[39m\u001B[32mIn[2]\u001B[39m\u001B[32m, line 27\u001B[39m, in \u001B[36mCircle\u001B[39m\u001B[34m()\u001B[39m\n\u001B[32m     23\u001B[39m     \u001B[38;5;28mprint\u001B[39m(circle)\n\u001B[32m     25\u001B[39m     \u001B[38;5;28;01mreturn\u001B[39;00m \u001B[32m0\u001B[39m\n\u001B[32m---> \u001B[39m\u001B[32m27\u001B[39m \u001B[38;5;28;01mif\u001B[39;00m \u001B[43m_name_\u001B[49m == \u001B[33m\"\u001B[39m\u001B[33m_main_\u001B[39m\u001B[33m\"\u001B[39m:\n\u001B[32m     28\u001B[39m     sys.exit(main())\n",
      "\u001B[31mNameError\u001B[39m: name '_name_' is not defined"
     ]
    }
   ],
   "execution_count": 2
  },
  {
   "metadata": {},
   "cell_type": "code",
   "outputs": [],
   "execution_count": null,
   "source": "",
   "id": "9d0d2404d27e3a73"
  },
  {
   "metadata": {},
   "cell_type": "code",
   "outputs": [],
   "execution_count": null,
   "source": "",
   "id": "ff771bed4b7cf563"
  },
  {
   "metadata": {},
   "cell_type": "code",
   "outputs": [],
   "execution_count": null,
   "source": "",
   "id": "680079d30f784217"
  },
  {
   "metadata": {},
   "cell_type": "code",
   "outputs": [],
   "execution_count": null,
   "source": "",
   "id": "51796a2c4bb2a8b"
  }
 ],
 "metadata": {
  "kernelspec": {
   "display_name": "Python 3",
   "language": "python",
   "name": "python3"
  },
  "language_info": {
   "codemirror_mode": {
    "name": "ipython",
    "version": 2
   },
   "file_extension": ".py",
   "mimetype": "text/x-python",
   "name": "python",
   "nbconvert_exporter": "python",
   "pygments_lexer": "ipython2",
   "version": "2.7.6"
  }
 },
 "nbformat": 4,
 "nbformat_minor": 5
}
